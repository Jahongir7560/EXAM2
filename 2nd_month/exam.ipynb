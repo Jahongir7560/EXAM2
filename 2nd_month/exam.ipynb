{
 "cells": [
  {
   "cell_type": "code",
   "execution_count": 1,
   "metadata": {},
   "outputs": [],
   "source": [
    "import numpy as np\n",
    "import pandas as pd\n",
    "from sklearn.model_selection import train_test_split, GridSearchCV, cross_val_score\n",
    "from sklearn.metrics import mean_absolute_error\n",
    "from sklearn.linear_model import LinearRegression, Ridge, Lasso\n",
    "from sklearn.ensemble import RandomForestRegressor, GradientBoostingRegressor\n",
    "from sklearn.neural_network import MLPRegressor\n",
    "from sklearn.preprocessing import StandardScaler"
   ]
  },
  {
   "cell_type": "code",
   "execution_count": 2,
   "metadata": {},
   "outputs": [],
   "source": [
    "train = pd.read_csv(\"train.csv\")\n",
    "\n",
    "cols2use = ['Length', 'Height', 'Weight', 'Diameter', 'Shucked Weight', 'Viscera Weight', 'Shell Weight']\n",
    "X = train[cols2use]\n",
    "y = train['Age']\n",
    "\n",
    "X_train, X_test, y_train, y_test = train_test_split(X, y, test_size=0.2, random_state=42)"
   ]
  },
  {
   "cell_type": "code",
   "execution_count": 3,
   "metadata": {},
   "outputs": [
    {
     "name": "stdout",
     "output_type": "stream",
     "text": [
      "Linear Regression MAE: 1.3898479708860119\n",
      "Ridge Regression MAE: 1.3891756017621029\n",
      "Lasso Regression MAE: 1.6348103867676258\n",
      "Random Forest MAE: 1.392796523809524\n",
      "Gradient Boosting MAE: 1.35001728862648\n",
      "StandardScaler (MLPRegressor) MAE: 1.3142534854021763\n",
      "Best Random Forest MAE after Grid Search: 1.3402113719723412\n"
     ]
    }
   ],
   "source": [
    "\n",
    "linear_model = LinearRegression()\n",
    "linear_model.fit(X_train, y_train)\n",
    "y_pred_linear = linear_model.predict(X_test)\n",
    "mae_linear = mean_absolute_error(y_test, y_pred_linear)\n",
    "print(f'Linear Regression MAE: {mae_linear}')\n",
    "\n",
    "# Ridge Regression\n",
    "ridge_model = Ridge()\n",
    "ridge_model.fit(X_train, y_train)\n",
    "y_pred_ridge = ridge_model.predict(X_test)\n",
    "mae_ridge = mean_absolute_error(y_test, y_pred_ridge)\n",
    "print(f'Ridge Regression MAE: {mae_ridge}')\n",
    "\n",
    "# Lasso Regression\n",
    "lasso_model = Lasso()\n",
    "lasso_model.fit(X_train, y_train)\n",
    "y_pred_lasso = lasso_model.predict(X_test)\n",
    "mae_lasso = mean_absolute_error(y_test, y_pred_lasso)\n",
    "print(f'Lasso Regression MAE: {mae_lasso}')\n",
    "\n",
    "# Tree-Based Models: Random Forest\n",
    "rf_model = RandomForestRegressor()\n",
    "rf_model.fit(X_train, y_train)\n",
    "y_pred_rf = rf_model.predict(X_test)\n",
    "mae_rf = mean_absolute_error(y_test, y_pred_rf)\n",
    "print(f'Random Forest MAE: {mae_rf}')\n",
    "\n",
    "# Gradient Boosting\n",
    "gb_model = GradientBoostingRegressor()\n",
    "gb_model.fit(X_train, y_train)\n",
    "y_pred_gb = gb_model.predict(X_test)\n",
    "mae_gb = mean_absolute_error(y_test, y_pred_gb)\n",
    "print(f'Gradient Boosting MAE: {mae_gb}')\n",
    "\n",
    "\n",
    "scaler = StandardScaler()\n",
    "X_train_scaled = scaler.fit_transform(X_train)\n",
    "X_test_scaled = scaler.transform(X_test)\n",
    "\n",
    "mlp_model = MLPRegressor(hidden_layer_sizes=(500, 10), max_iter=1000)\n",
    "mlp_model.fit(X_train_scaled, y_train)\n",
    "y_pred_mlp = mlp_model.predict(X_test_scaled)\n",
    "mae_mlp = mean_absolute_error(y_test, y_pred_mlp)\n",
    "print(f'StandardScaler (MLPRegressor) MAE: {mae_mlp}')\n",
    "\n",
    "\n",
    "# Hyperparameter Tuning using GridSearchCV (Example with Random Forest)\n",
    "param_grid = {\n",
    "    'n_estimators':[100, 200, 300],\n",
    "    'max_depth': [None, 10, 20, 30],\n",
    "    'min_samples_split': [2, 5, 10]\n",
    "}\n",
    "\n",
    "grid_search = GridSearchCV(RandomForestRegressor(), param_grid, cv=5, n_jobs=-1, scoring='neg_mean_absolute_error')\n",
    "grid_search.fit(X_train, y_train)\n",
    "best_rf_model = grid_search.best_estimator_\n",
    "y_pred_best_rf = best_rf_model.predict(X_test)\n",
    "mae_best_rf = mean_absolute_error(y_test, y_pred_best_rf)\n",
    "print(f'Best Random Forest MAE after Grid Search: {mae_best_rf}')\n"
   ]
  },
  {
   "cell_type": "code",
   "execution_count": 4,
   "metadata": {},
   "outputs": [],
   "source": [
    "test = pd.read_csv(\"test.csv\")\n",
    "subm = pd.read_csv(\"sample_submission.csv\")"
   ]
  },
  {
   "cell_type": "code",
   "execution_count": 5,
   "metadata": {},
   "outputs": [
    {
     "data": {
      "text/plain": [
       "array([ 6.56536141,  9.09176775,  5.40128461, ..., 10.91293237,\n",
       "        9.53105076,  7.79015334])"
      ]
     },
     "execution_count": 5,
     "metadata": {},
     "output_type": "execute_result"
    }
   ],
   "source": [
    "test_data = test[cols2use]\n",
    "yy_pred = grid_search.predict(test_data)\n",
    "yy_pred"
   ]
  },
  {
   "cell_type": "code",
   "execution_count": 6,
   "metadata": {},
   "outputs": [
    {
     "data": {
      "text/html": [
       "<div>\n",
       "<style scoped>\n",
       "    .dataframe tbody tr th:only-of-type {\n",
       "        vertical-align: middle;\n",
       "    }\n",
       "\n",
       "    .dataframe tbody tr th {\n",
       "        vertical-align: top;\n",
       "    }\n",
       "\n",
       "    .dataframe thead th {\n",
       "        text-align: right;\n",
       "    }\n",
       "</style>\n",
       "<table border=\"1\" class=\"dataframe\">\n",
       "  <thead>\n",
       "    <tr style=\"text-align: right;\">\n",
       "      <th></th>\n",
       "      <th>id</th>\n",
       "      <th>Age</th>\n",
       "    </tr>\n",
       "  </thead>\n",
       "  <tbody>\n",
       "    <tr>\n",
       "      <th>0</th>\n",
       "      <td>15000</td>\n",
       "      <td>6.565361</td>\n",
       "    </tr>\n",
       "    <tr>\n",
       "      <th>1</th>\n",
       "      <td>15001</td>\n",
       "      <td>9.091768</td>\n",
       "    </tr>\n",
       "    <tr>\n",
       "      <th>2</th>\n",
       "      <td>15002</td>\n",
       "      <td>5.401285</td>\n",
       "    </tr>\n",
       "    <tr>\n",
       "      <th>3</th>\n",
       "      <td>15003</td>\n",
       "      <td>8.732391</td>\n",
       "    </tr>\n",
       "    <tr>\n",
       "      <th>4</th>\n",
       "      <td>15004</td>\n",
       "      <td>6.637547</td>\n",
       "    </tr>\n",
       "    <tr>\n",
       "      <th>...</th>\n",
       "      <td>...</td>\n",
       "      <td>...</td>\n",
       "    </tr>\n",
       "    <tr>\n",
       "      <th>9995</th>\n",
       "      <td>24995</td>\n",
       "      <td>8.921372</td>\n",
       "    </tr>\n",
       "    <tr>\n",
       "      <th>9996</th>\n",
       "      <td>24996</td>\n",
       "      <td>8.306004</td>\n",
       "    </tr>\n",
       "    <tr>\n",
       "      <th>9997</th>\n",
       "      <td>24997</td>\n",
       "      <td>10.912932</td>\n",
       "    </tr>\n",
       "    <tr>\n",
       "      <th>9998</th>\n",
       "      <td>24998</td>\n",
       "      <td>9.531051</td>\n",
       "    </tr>\n",
       "    <tr>\n",
       "      <th>9999</th>\n",
       "      <td>24999</td>\n",
       "      <td>7.790153</td>\n",
       "    </tr>\n",
       "  </tbody>\n",
       "</table>\n",
       "<p>10000 rows × 2 columns</p>\n",
       "</div>"
      ],
      "text/plain": [
       "         id        Age\n",
       "0     15000   6.565361\n",
       "1     15001   9.091768\n",
       "2     15002   5.401285\n",
       "3     15003   8.732391\n",
       "4     15004   6.637547\n",
       "...     ...        ...\n",
       "9995  24995   8.921372\n",
       "9996  24996   8.306004\n",
       "9997  24997  10.912932\n",
       "9998  24998   9.531051\n",
       "9999  24999   7.790153\n",
       "\n",
       "[10000 rows x 2 columns]"
      ]
     },
     "execution_count": 6,
     "metadata": {},
     "output_type": "execute_result"
    }
   ],
   "source": [
    "subm['Age'] = yy_pred\n",
    "subm"
   ]
  }
 ],
 "metadata": {
  "kernelspec": {
   "display_name": "Python 3",
   "language": "python",
   "name": "python3"
  },
  "language_info": {
   "codemirror_mode": {
    "name": "ipython",
    "version": 3
   },
   "file_extension": ".py",
   "mimetype": "text/x-python",
   "name": "python",
   "nbconvert_exporter": "python",
   "pygments_lexer": "ipython3",
   "version": "3.12.4"
  }
 },
 "nbformat": 4,
 "nbformat_minor": 2
}
